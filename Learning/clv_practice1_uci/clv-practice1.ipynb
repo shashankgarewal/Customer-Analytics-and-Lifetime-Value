{
 "cells": [
  {
   "cell_type": "markdown",
   "metadata": {},
   "source": [
    "In this notebook, the practice of the lifetime package and estimate customer lifetime value is conducted.\n",
    "\n",
    "Reference: \n",
    "1. clv learning: https://www.youtube.com/watch?v=486x8ccQThE\n",
    "2. dataset used: https://www.kaggle.com/datasets/nathaniel/uci-online-retail-ii-data-set also available at [UCI Repo] (https://archive.ics.uci.edu/dataset/502/online+retail+ii)\n",
    "3. notebook looked as helping hand: https://www.kaggle.com/code/halimedogan/crm-analytics-cltv/notebook"
   ]
  },
  {
   "cell_type": "code",
   "execution_count": 1,
   "metadata": {},
   "outputs": [],
   "source": [
    "import pandas as pd\n",
    "import numpy as np\n",
    "import datetime as dt\n",
    "\n",
    "import matplotlib.pyplot as plt\n",
    "import seaborn as sns\n",
    "import statsmodels.api as sm\n",
    "\n",
    "from lifetimes import BetaGeoFitter, GammaGammaFitter\n",
    "from lifetimes.utils import summary_data_from_transaction_data as summary\n",
    "from lifetimes.utils import _customer_lifetime_value \n",
    "\n",
    "import warnings\n",
    "warnings.filterwarnings('ignore')\n",
    "pd.set_option('display.max_columns', None)\n",
    "sns.set(style=\"whitegrid\")\n",
    "sns.set_palette(\"pastel\")"
   ]
  },
  {
   "cell_type": "code",
   "execution_count": 2,
   "metadata": {},
   "outputs": [
    {
     "name": "stdout",
     "output_type": "stream",
     "text": [
      "c:\\Users\\Monika\\Projects\\Customer Life-time Value\\Learning\\clv_practice1_uci\n"
     ]
    }
   ],
   "source": [
    "import os\n",
    "print(os.getcwd())"
   ]
  },
  {
   "cell_type": "markdown",
   "metadata": {},
   "source": [
    "## Load data"
   ]
  },
  {
   "cell_type": "code",
   "execution_count": 3,
   "metadata": {},
   "outputs": [],
   "source": [
    "df1 = pd.read_excel(r\"uci_online_retail_II.xlsx\", sheet_name=\"Year 2009-2010\")\n",
    "df2 = pd.read_excel(r\"uci_online_retail_II.xlsx\", sheet_name=\"Year 2010-2011\")"
   ]
  },
  {
   "cell_type": "code",
   "execution_count": 4,
   "metadata": {},
   "outputs": [
    {
     "data": {
      "text/html": [
       "<div>\n",
       "<style scoped>\n",
       "    .dataframe tbody tr th:only-of-type {\n",
       "        vertical-align: middle;\n",
       "    }\n",
       "\n",
       "    .dataframe tbody tr th {\n",
       "        vertical-align: top;\n",
       "    }\n",
       "\n",
       "    .dataframe thead th {\n",
       "        text-align: right;\n",
       "    }\n",
       "</style>\n",
       "<table border=\"1\" class=\"dataframe\">\n",
       "  <thead>\n",
       "    <tr style=\"text-align: right;\">\n",
       "      <th></th>\n",
       "      <th>Invoice</th>\n",
       "      <th>StockCode</th>\n",
       "      <th>Description</th>\n",
       "      <th>Quantity</th>\n",
       "      <th>InvoiceDate</th>\n",
       "      <th>Price</th>\n",
       "      <th>Customer ID</th>\n",
       "      <th>Country</th>\n",
       "    </tr>\n",
       "  </thead>\n",
       "  <tbody>\n",
       "    <tr>\n",
       "      <th>0</th>\n",
       "      <td>489434</td>\n",
       "      <td>85048</td>\n",
       "      <td>15CM CHRISTMAS GLASS BALL 20 LIGHTS</td>\n",
       "      <td>12</td>\n",
       "      <td>2009-12-01 07:45:00</td>\n",
       "      <td>6.95</td>\n",
       "      <td>13085.0</td>\n",
       "      <td>United Kingdom</td>\n",
       "    </tr>\n",
       "    <tr>\n",
       "      <th>1</th>\n",
       "      <td>489434</td>\n",
       "      <td>79323P</td>\n",
       "      <td>PINK CHERRY LIGHTS</td>\n",
       "      <td>12</td>\n",
       "      <td>2009-12-01 07:45:00</td>\n",
       "      <td>6.75</td>\n",
       "      <td>13085.0</td>\n",
       "      <td>United Kingdom</td>\n",
       "    </tr>\n",
       "    <tr>\n",
       "      <th>2</th>\n",
       "      <td>489434</td>\n",
       "      <td>79323W</td>\n",
       "      <td>WHITE CHERRY LIGHTS</td>\n",
       "      <td>12</td>\n",
       "      <td>2009-12-01 07:45:00</td>\n",
       "      <td>6.75</td>\n",
       "      <td>13085.0</td>\n",
       "      <td>United Kingdom</td>\n",
       "    </tr>\n",
       "    <tr>\n",
       "      <th>3</th>\n",
       "      <td>489434</td>\n",
       "      <td>22041</td>\n",
       "      <td>RECORD FRAME 7\" SINGLE SIZE</td>\n",
       "      <td>48</td>\n",
       "      <td>2009-12-01 07:45:00</td>\n",
       "      <td>2.10</td>\n",
       "      <td>13085.0</td>\n",
       "      <td>United Kingdom</td>\n",
       "    </tr>\n",
       "    <tr>\n",
       "      <th>4</th>\n",
       "      <td>489434</td>\n",
       "      <td>21232</td>\n",
       "      <td>STRAWBERRY CERAMIC TRINKET BOX</td>\n",
       "      <td>24</td>\n",
       "      <td>2009-12-01 07:45:00</td>\n",
       "      <td>1.25</td>\n",
       "      <td>13085.0</td>\n",
       "      <td>United Kingdom</td>\n",
       "    </tr>\n",
       "  </tbody>\n",
       "</table>\n",
       "</div>"
      ],
      "text/plain": [
       "  Invoice StockCode                          Description  Quantity  \\\n",
       "0  489434     85048  15CM CHRISTMAS GLASS BALL 20 LIGHTS        12   \n",
       "1  489434    79323P                   PINK CHERRY LIGHTS        12   \n",
       "2  489434    79323W                  WHITE CHERRY LIGHTS        12   \n",
       "3  489434     22041         RECORD FRAME 7\" SINGLE SIZE         48   \n",
       "4  489434     21232       STRAWBERRY CERAMIC TRINKET BOX        24   \n",
       "\n",
       "          InvoiceDate  Price  Customer ID         Country  \n",
       "0 2009-12-01 07:45:00   6.95      13085.0  United Kingdom  \n",
       "1 2009-12-01 07:45:00   6.75      13085.0  United Kingdom  \n",
       "2 2009-12-01 07:45:00   6.75      13085.0  United Kingdom  \n",
       "3 2009-12-01 07:45:00   2.10      13085.0  United Kingdom  \n",
       "4 2009-12-01 07:45:00   1.25      13085.0  United Kingdom  "
      ]
     },
     "execution_count": 4,
     "metadata": {},
     "output_type": "execute_result"
    }
   ],
   "source": [
    "df1.head()"
   ]
  },
  {
   "cell_type": "code",
   "execution_count": 5,
   "metadata": {},
   "outputs": [
    {
     "data": {
      "text/html": [
       "<div>\n",
       "<style scoped>\n",
       "    .dataframe tbody tr th:only-of-type {\n",
       "        vertical-align: middle;\n",
       "    }\n",
       "\n",
       "    .dataframe tbody tr th {\n",
       "        vertical-align: top;\n",
       "    }\n",
       "\n",
       "    .dataframe thead th {\n",
       "        text-align: right;\n",
       "    }\n",
       "</style>\n",
       "<table border=\"1\" class=\"dataframe\">\n",
       "  <thead>\n",
       "    <tr style=\"text-align: right;\">\n",
       "      <th></th>\n",
       "      <th>Invoice</th>\n",
       "      <th>StockCode</th>\n",
       "      <th>Description</th>\n",
       "      <th>Quantity</th>\n",
       "      <th>InvoiceDate</th>\n",
       "      <th>Price</th>\n",
       "      <th>Customer ID</th>\n",
       "      <th>Country</th>\n",
       "    </tr>\n",
       "  </thead>\n",
       "  <tbody>\n",
       "    <tr>\n",
       "      <th>0</th>\n",
       "      <td>536365</td>\n",
       "      <td>85123A</td>\n",
       "      <td>WHITE HANGING HEART T-LIGHT HOLDER</td>\n",
       "      <td>6</td>\n",
       "      <td>2010-12-01 08:26:00</td>\n",
       "      <td>2.55</td>\n",
       "      <td>17850.0</td>\n",
       "      <td>United Kingdom</td>\n",
       "    </tr>\n",
       "    <tr>\n",
       "      <th>1</th>\n",
       "      <td>536365</td>\n",
       "      <td>71053</td>\n",
       "      <td>WHITE METAL LANTERN</td>\n",
       "      <td>6</td>\n",
       "      <td>2010-12-01 08:26:00</td>\n",
       "      <td>3.39</td>\n",
       "      <td>17850.0</td>\n",
       "      <td>United Kingdom</td>\n",
       "    </tr>\n",
       "    <tr>\n",
       "      <th>2</th>\n",
       "      <td>536365</td>\n",
       "      <td>84406B</td>\n",
       "      <td>CREAM CUPID HEARTS COAT HANGER</td>\n",
       "      <td>8</td>\n",
       "      <td>2010-12-01 08:26:00</td>\n",
       "      <td>2.75</td>\n",
       "      <td>17850.0</td>\n",
       "      <td>United Kingdom</td>\n",
       "    </tr>\n",
       "    <tr>\n",
       "      <th>3</th>\n",
       "      <td>536365</td>\n",
       "      <td>84029G</td>\n",
       "      <td>KNITTED UNION FLAG HOT WATER BOTTLE</td>\n",
       "      <td>6</td>\n",
       "      <td>2010-12-01 08:26:00</td>\n",
       "      <td>3.39</td>\n",
       "      <td>17850.0</td>\n",
       "      <td>United Kingdom</td>\n",
       "    </tr>\n",
       "    <tr>\n",
       "      <th>4</th>\n",
       "      <td>536365</td>\n",
       "      <td>84029E</td>\n",
       "      <td>RED WOOLLY HOTTIE WHITE HEART.</td>\n",
       "      <td>6</td>\n",
       "      <td>2010-12-01 08:26:00</td>\n",
       "      <td>3.39</td>\n",
       "      <td>17850.0</td>\n",
       "      <td>United Kingdom</td>\n",
       "    </tr>\n",
       "  </tbody>\n",
       "</table>\n",
       "</div>"
      ],
      "text/plain": [
       "  Invoice StockCode                          Description  Quantity  \\\n",
       "0  536365    85123A   WHITE HANGING HEART T-LIGHT HOLDER         6   \n",
       "1  536365     71053                  WHITE METAL LANTERN         6   \n",
       "2  536365    84406B       CREAM CUPID HEARTS COAT HANGER         8   \n",
       "3  536365    84029G  KNITTED UNION FLAG HOT WATER BOTTLE         6   \n",
       "4  536365    84029E       RED WOOLLY HOTTIE WHITE HEART.         6   \n",
       "\n",
       "          InvoiceDate  Price  Customer ID         Country  \n",
       "0 2010-12-01 08:26:00   2.55      17850.0  United Kingdom  \n",
       "1 2010-12-01 08:26:00   3.39      17850.0  United Kingdom  \n",
       "2 2010-12-01 08:26:00   2.75      17850.0  United Kingdom  \n",
       "3 2010-12-01 08:26:00   3.39      17850.0  United Kingdom  \n",
       "4 2010-12-01 08:26:00   3.39      17850.0  United Kingdom  "
      ]
     },
     "execution_count": 5,
     "metadata": {},
     "output_type": "execute_result"
    }
   ],
   "source": [
    "df2.head()"
   ]
  },
  {
   "cell_type": "code",
   "execution_count": 6,
   "metadata": {},
   "outputs": [],
   "source": [
    "def check_df(dataframe):\n",
    "    print(\"################ Shape ####################\")\n",
    "    print(dataframe.shape)\n",
    "    print(\"############### Types #####################\")\n",
    "    print(dataframe.dtypes)\n",
    "    print(\"############### Unique Value Counts ###################\")\n",
    "    print(dataframe.nunique())\n",
    "    print(\"############### NA Counts ########################\")\n",
    "    print(dataframe.isnull().sum())"
   ]
  },
  {
   "cell_type": "code",
   "execution_count": 7,
   "metadata": {},
   "outputs": [
    {
     "name": "stdout",
     "output_type": "stream",
     "text": [
      "################ Shape ####################\n",
      "(525461, 8)\n",
      "############### Types #####################\n",
      "Invoice                object\n",
      "StockCode              object\n",
      "Description            object\n",
      "Quantity                int64\n",
      "InvoiceDate    datetime64[ns]\n",
      "Price                 float64\n",
      "Customer ID           float64\n",
      "Country                object\n",
      "dtype: object\n",
      "############### Unique Value Counts ###################\n",
      "Invoice        28816\n",
      "StockCode       4632\n",
      "Description     4681\n",
      "Quantity         825\n",
      "InvoiceDate    25296\n",
      "Price           1606\n",
      "Customer ID     4383\n",
      "Country           40\n",
      "dtype: int64\n",
      "############### NA Counts ########################\n",
      "Invoice             0\n",
      "StockCode           0\n",
      "Description      2928\n",
      "Quantity            0\n",
      "InvoiceDate         0\n",
      "Price               0\n",
      "Customer ID    107927\n",
      "Country             0\n",
      "dtype: int64\n"
     ]
    }
   ],
   "source": [
    "check_df(df1)"
   ]
  },
  {
   "cell_type": "code",
   "execution_count": 8,
   "metadata": {},
   "outputs": [
    {
     "name": "stdout",
     "output_type": "stream",
     "text": [
      "################ Shape ####################\n",
      "(541910, 8)\n",
      "############### Types #####################\n",
      "Invoice                object\n",
      "StockCode              object\n",
      "Description            object\n",
      "Quantity                int64\n",
      "InvoiceDate    datetime64[ns]\n",
      "Price                 float64\n",
      "Customer ID           float64\n",
      "Country                object\n",
      "dtype: object\n",
      "############### Unique Value Counts ###################\n",
      "Invoice        25900\n",
      "StockCode       4070\n",
      "Description     4223\n",
      "Quantity         722\n",
      "InvoiceDate    23260\n",
      "Price           1630\n",
      "Customer ID     4372\n",
      "Country           38\n",
      "dtype: int64\n",
      "############### NA Counts ########################\n",
      "Invoice             0\n",
      "StockCode           0\n",
      "Description      1454\n",
      "Quantity            0\n",
      "InvoiceDate         0\n",
      "Price               0\n",
      "Customer ID    135080\n",
      "Country             0\n",
      "dtype: int64\n"
     ]
    }
   ],
   "source": [
    "check_df(df2)"
   ]
  },
  {
   "cell_type": "markdown",
   "metadata": {},
   "source": [
    "## analysis of data values\n",
    "- to create dataframe compatible with lifetimes library"
   ]
  },
  {
   "cell_type": "code",
   "execution_count": 35,
   "metadata": {},
   "outputs": [
    {
     "name": "stdout",
     "output_type": "stream",
     "text": [
      "Number of unique invoices with null Customer ID in dataframe:\n",
      "df1: 5229 out of 28816\n",
      "df2: 3710 out of 25900\n"
     ]
    }
   ],
   "source": [
    "df1_nullCID_Invoice = df1.loc[df1['Customer ID'].isna()]['Invoice'].unique()\n",
    "df2_nullCID_Invoice = df2.loc[df2['Customer ID'].isna()]['Invoice'].unique()\n",
    "\n",
    "print(\"Number of unique invoices with null Customer ID in dataframe:\")\n",
    "print(f\"df1: {df1_nullCID_Invoice.shape[0]} out of {df1['Invoice'].nunique()}\")\n",
    "print(f\"df2: {df2_nullCID_Invoice.shape[0]} out of {df2['Invoice'].nunique()}\")\n"
   ]
  },
  {
   "cell_type": "code",
   "execution_count": null,
   "metadata": {},
   "outputs": [
    {
     "name": "stdout",
     "output_type": "stream",
     "text": [
      "Count of invoices with a Customer ID also appear without a Customer ID\n",
      "df1: 0\n",
      "df2: 0\n"
     ]
    }
   ],
   "source": [
    "df1_withCID_Invoice_record = df1.loc[~df1['Customer ID'].isna()]['Invoice']\n",
    "\n",
    "df2_withCID_Invoice_record = df2.loc[~df2['Customer ID'].isna()]['Invoice']\n",
    "\n",
    "print('Count of invoices with a Customer ID also appear without a Customer ID')\n",
    "print('df1:', \n",
    "        df1_withCID_Invoice_record.isin(df1_nullCID_Invoice).sum())\n",
    "\n",
    "print('df2:',\n",
    "        df2_withCID_Invoice_record.isin(df2_nullCID_Invoice).sum())"
   ]
  },
  {
   "cell_type": "markdown",
   "metadata": {},
   "source": [
    "Given the above, we can conclude that the null Customer IDs cannot be imputed and cannot be used for analysis."
   ]
  },
  {
   "cell_type": "code",
   "execution_count": null,
   "metadata": {},
   "outputs": [
    {
     "data": {
      "text/plain": [
       "np.int64(23587)"
      ]
     },
     "execution_count": 67,
     "metadata": {},
     "output_type": "execute_result"
    }
   ],
   "source": [
    "df1.groupby('Invoice')[['Customer ID']].nunique().eq(1).all(axis=1).sum()"
   ]
  },
  {
   "cell_type": "code",
   "execution_count": 42,
   "metadata": {},
   "outputs": [
    {
     "data": {
      "text/html": [
       "<div>\n",
       "<style scoped>\n",
       "    .dataframe tbody tr th:only-of-type {\n",
       "        vertical-align: middle;\n",
       "    }\n",
       "\n",
       "    .dataframe tbody tr th {\n",
       "        vertical-align: top;\n",
       "    }\n",
       "\n",
       "    .dataframe thead th {\n",
       "        text-align: right;\n",
       "    }\n",
       "</style>\n",
       "<table border=\"1\" class=\"dataframe\">\n",
       "  <thead>\n",
       "    <tr style=\"text-align: right;\">\n",
       "      <th></th>\n",
       "      <th>Invoice</th>\n",
       "      <th>StockCode</th>\n",
       "      <th>Description</th>\n",
       "      <th>Quantity</th>\n",
       "      <th>InvoiceDate</th>\n",
       "      <th>Price</th>\n",
       "      <th>Customer ID</th>\n",
       "      <th>Country</th>\n",
       "    </tr>\n",
       "  </thead>\n",
       "  <tbody>\n",
       "    <tr>\n",
       "      <th>0</th>\n",
       "      <td>489434</td>\n",
       "      <td>85048</td>\n",
       "      <td>15CM CHRISTMAS GLASS BALL 20 LIGHTS</td>\n",
       "      <td>12</td>\n",
       "      <td>2009-12-01 07:45:00</td>\n",
       "      <td>6.95</td>\n",
       "      <td>13085.0</td>\n",
       "      <td>United Kingdom</td>\n",
       "    </tr>\n",
       "    <tr>\n",
       "      <th>1</th>\n",
       "      <td>489434</td>\n",
       "      <td>79323P</td>\n",
       "      <td>PINK CHERRY LIGHTS</td>\n",
       "      <td>12</td>\n",
       "      <td>2009-12-01 07:45:00</td>\n",
       "      <td>6.75</td>\n",
       "      <td>13085.0</td>\n",
       "      <td>United Kingdom</td>\n",
       "    </tr>\n",
       "    <tr>\n",
       "      <th>2</th>\n",
       "      <td>489434</td>\n",
       "      <td>79323W</td>\n",
       "      <td>WHITE CHERRY LIGHTS</td>\n",
       "      <td>12</td>\n",
       "      <td>2009-12-01 07:45:00</td>\n",
       "      <td>6.75</td>\n",
       "      <td>13085.0</td>\n",
       "      <td>United Kingdom</td>\n",
       "    </tr>\n",
       "    <tr>\n",
       "      <th>3</th>\n",
       "      <td>489434</td>\n",
       "      <td>22041</td>\n",
       "      <td>RECORD FRAME 7\" SINGLE SIZE</td>\n",
       "      <td>48</td>\n",
       "      <td>2009-12-01 07:45:00</td>\n",
       "      <td>2.10</td>\n",
       "      <td>13085.0</td>\n",
       "      <td>United Kingdom</td>\n",
       "    </tr>\n",
       "    <tr>\n",
       "      <th>4</th>\n",
       "      <td>489434</td>\n",
       "      <td>21232</td>\n",
       "      <td>STRAWBERRY CERAMIC TRINKET BOX</td>\n",
       "      <td>24</td>\n",
       "      <td>2009-12-01 07:45:00</td>\n",
       "      <td>1.25</td>\n",
       "      <td>13085.0</td>\n",
       "      <td>United Kingdom</td>\n",
       "    </tr>\n",
       "  </tbody>\n",
       "</table>\n",
       "</div>"
      ],
      "text/plain": [
       "  Invoice StockCode                          Description  Quantity  \\\n",
       "0  489434     85048  15CM CHRISTMAS GLASS BALL 20 LIGHTS        12   \n",
       "1  489434    79323P                   PINK CHERRY LIGHTS        12   \n",
       "2  489434    79323W                  WHITE CHERRY LIGHTS        12   \n",
       "3  489434     22041         RECORD FRAME 7\" SINGLE SIZE         48   \n",
       "4  489434     21232       STRAWBERRY CERAMIC TRINKET BOX        24   \n",
       "\n",
       "          InvoiceDate  Price  Customer ID         Country  \n",
       "0 2009-12-01 07:45:00   6.95      13085.0  United Kingdom  \n",
       "1 2009-12-01 07:45:00   6.75      13085.0  United Kingdom  \n",
       "2 2009-12-01 07:45:00   6.75      13085.0  United Kingdom  \n",
       "3 2009-12-01 07:45:00   2.10      13085.0  United Kingdom  \n",
       "4 2009-12-01 07:45:00   1.25      13085.0  United Kingdom  "
      ]
     },
     "execution_count": 42,
     "metadata": {},
     "output_type": "execute_result"
    }
   ],
   "source": [
    "df1.head()"
   ]
  },
  {
   "cell_type": "markdown",
   "metadata": {},
   "source": [
    "### unique invoice record"
   ]
  },
  {
   "cell_type": "code",
   "execution_count": 218,
   "metadata": {},
   "outputs": [],
   "source": [
    "def transform_data(data):\n",
    "    data = data.copy()\n",
    "    data = data[~data['Customer ID'].isna()]\n",
    "    data['InvoiceDate'] = pd.to_datetime(data['InvoiceDate'])\n",
    "    data['Invoice'] = data['Invoice'].astype(str)\n",
    "    data['Customer ID'] = data['Customer ID'].astype(str)\n",
    "    data['Amount'] = data['Quantity'] * data['Price']\n",
    "    \n",
    "    # aggregate template\n",
    "    agg_dict = {\n",
    "        'InvoiceDate': lambda x: x.iloc[0] if x.nunique() == 1 else x.max(),\n",
    "        'Customer ID': lambda x: x.iloc[0] if x.nunique() == 1 else 'Multiple',\n",
    "        'Country': lambda x: x.iloc[0] if x.nunique() == 1 else 'Multiple',\n",
    "        'Amount': 'sum',\n",
    "        'Quantity': list,\n",
    "        'Price': list,\n",
    "        'StockCode': list,\n",
    "        'Description': list\n",
    "    }\n",
    "    grouped = data.groupby('Invoice', as_index=False).agg(agg_dict)\n",
    "\n",
    "    # Add new columns after aggregation\n",
    "    grouped['TotalItems'] = grouped['Quantity'].apply(sum)\n",
    "    grouped['NumUniqueProd'] = grouped['StockCode'].apply(len)\n",
    "    grouped['AvgPrice'] = grouped['Price'].apply(lambda x: round(sum(x)/len(x), 2))\n",
    "    \n",
    "    return grouped"
   ]
  },
  {
   "cell_type": "code",
   "execution_count": 219,
   "metadata": {},
   "outputs": [],
   "source": [
    "df1_summary = transform_data(df1)\n",
    "df2_summary = transform_data(df2)"
   ]
  },
  {
   "cell_type": "code",
   "execution_count": 220,
   "metadata": {},
   "outputs": [
    {
     "name": "stdout",
     "output_type": "stream",
     "text": [
      "multiple customer IDs in invoice: 0\n",
      "multiple country in invoice: 0\n"
     ]
    }
   ],
   "source": [
    "print('multiple customer IDs in invoice:', df1_summary[df1_summary['Customer ID'] == 'Multiple'].shape[0])\n",
    "print('multiple country in invoice:', df2_summary[df2_summary['Country'] == 'Multiple'].shape[0])"
   ]
  },
  {
   "cell_type": "code",
   "execution_count": 214,
   "metadata": {},
   "outputs": [
    {
     "data": {
      "text/html": [
       "<div>\n",
       "<style scoped>\n",
       "    .dataframe tbody tr th:only-of-type {\n",
       "        vertical-align: middle;\n",
       "    }\n",
       "\n",
       "    .dataframe tbody tr th {\n",
       "        vertical-align: top;\n",
       "    }\n",
       "\n",
       "    .dataframe thead th {\n",
       "        text-align: right;\n",
       "    }\n",
       "</style>\n",
       "<table border=\"1\" class=\"dataframe\">\n",
       "  <thead>\n",
       "    <tr style=\"text-align: right;\">\n",
       "      <th></th>\n",
       "      <th>Invoice</th>\n",
       "      <th>InvoiceDate</th>\n",
       "      <th>Customer ID</th>\n",
       "      <th>Country</th>\n",
       "      <th>Amount</th>\n",
       "      <th>Quantity</th>\n",
       "      <th>Price</th>\n",
       "      <th>StockCode</th>\n",
       "      <th>Description</th>\n",
       "      <th>TotalItems</th>\n",
       "      <th>NumUniqueProd</th>\n",
       "      <th>AvgPrice</th>\n",
       "    </tr>\n",
       "  </thead>\n",
       "  <tbody>\n",
       "    <tr>\n",
       "      <th>23582</th>\n",
       "      <td>C538121</td>\n",
       "      <td>2010-12-09 15:36:00</td>\n",
       "      <td>15535.0</td>\n",
       "      <td>United Kingdom</td>\n",
       "      <td>-12.75</td>\n",
       "      <td>[-1]</td>\n",
       "      <td>[12.75]</td>\n",
       "      <td>[22461]</td>\n",
       "      <td>[SAVOY ART DECO CLOCK]</td>\n",
       "      <td>-1</td>\n",
       "      <td>1</td>\n",
       "      <td>12.75</td>\n",
       "    </tr>\n",
       "    <tr>\n",
       "      <th>23583</th>\n",
       "      <td>C538122</td>\n",
       "      <td>2010-12-09 15:38:00</td>\n",
       "      <td>14696.0</td>\n",
       "      <td>United Kingdom</td>\n",
       "      <td>-1.25</td>\n",
       "      <td>[-1]</td>\n",
       "      <td>[1.25]</td>\n",
       "      <td>[22444]</td>\n",
       "      <td>[GROW YOUR OWN PLANT IN A CAN ]</td>\n",
       "      <td>-1</td>\n",
       "      <td>1</td>\n",
       "      <td>1.25</td>\n",
       "    </tr>\n",
       "    <tr>\n",
       "      <th>23584</th>\n",
       "      <td>C538123</td>\n",
       "      <td>2010-12-09 15:41:00</td>\n",
       "      <td>12605.0</td>\n",
       "      <td>Germany</td>\n",
       "      <td>-7.50</td>\n",
       "      <td>[-1, -1, -2]</td>\n",
       "      <td>[1.65, 1.65, 2.1]</td>\n",
       "      <td>[22331, 22333, 22956]</td>\n",
       "      <td>[WOODLAND PARTY BAG + STICKER SET, RETROSPOT P...</td>\n",
       "      <td>-4</td>\n",
       "      <td>3</td>\n",
       "      <td>1.80</td>\n",
       "    </tr>\n",
       "    <tr>\n",
       "      <th>23585</th>\n",
       "      <td>C538124</td>\n",
       "      <td>2010-12-09 15:43:00</td>\n",
       "      <td>15329.0</td>\n",
       "      <td>United Kingdom</td>\n",
       "      <td>-17.70</td>\n",
       "      <td>[-4, -1, -1]</td>\n",
       "      <td>[0.5, 2.95, 12.75]</td>\n",
       "      <td>[M, 22699, 22423]</td>\n",
       "      <td>[Manual, ROSES REGENCY TEACUP AND SAUCER , REG...</td>\n",
       "      <td>-6</td>\n",
       "      <td>3</td>\n",
       "      <td>5.40</td>\n",
       "    </tr>\n",
       "    <tr>\n",
       "      <th>23586</th>\n",
       "      <td>C538164</td>\n",
       "      <td>2010-12-09 17:32:00</td>\n",
       "      <td>14031.0</td>\n",
       "      <td>United Kingdom</td>\n",
       "      <td>-1.95</td>\n",
       "      <td>[-1]</td>\n",
       "      <td>[1.95]</td>\n",
       "      <td>[35004B]</td>\n",
       "      <td>[SET OF 3 BLACK FLYING DUCKS]</td>\n",
       "      <td>-1</td>\n",
       "      <td>1</td>\n",
       "      <td>1.95</td>\n",
       "    </tr>\n",
       "  </tbody>\n",
       "</table>\n",
       "</div>"
      ],
      "text/plain": [
       "       Invoice         InvoiceDate Customer ID         Country  Amount  \\\n",
       "23582  C538121 2010-12-09 15:36:00     15535.0  United Kingdom  -12.75   \n",
       "23583  C538122 2010-12-09 15:38:00     14696.0  United Kingdom   -1.25   \n",
       "23584  C538123 2010-12-09 15:41:00     12605.0         Germany   -7.50   \n",
       "23585  C538124 2010-12-09 15:43:00     15329.0  United Kingdom  -17.70   \n",
       "23586  C538164 2010-12-09 17:32:00     14031.0  United Kingdom   -1.95   \n",
       "\n",
       "           Quantity               Price              StockCode  \\\n",
       "23582          [-1]             [12.75]                [22461]   \n",
       "23583          [-1]              [1.25]                [22444]   \n",
       "23584  [-1, -1, -2]   [1.65, 1.65, 2.1]  [22331, 22333, 22956]   \n",
       "23585  [-4, -1, -1]  [0.5, 2.95, 12.75]      [M, 22699, 22423]   \n",
       "23586          [-1]              [1.95]               [35004B]   \n",
       "\n",
       "                                             Description  TotalItems  \\\n",
       "23582                             [SAVOY ART DECO CLOCK]          -1   \n",
       "23583                    [GROW YOUR OWN PLANT IN A CAN ]          -1   \n",
       "23584  [WOODLAND PARTY BAG + STICKER SET, RETROSPOT P...          -4   \n",
       "23585  [Manual, ROSES REGENCY TEACUP AND SAUCER , REG...          -6   \n",
       "23586                      [SET OF 3 BLACK FLYING DUCKS]          -1   \n",
       "\n",
       "       NumUniqueProd  AvgPrice  \n",
       "23582              1     12.75  \n",
       "23583              1      1.25  \n",
       "23584              3      1.80  \n",
       "23585              3      5.40  \n",
       "23586              1      1.95  "
      ]
     },
     "execution_count": 214,
     "metadata": {},
     "output_type": "execute_result"
    }
   ],
   "source": [
    "df1_summary.tail()"
   ]
  },
  {
   "cell_type": "code",
   "execution_count": 73,
   "metadata": {},
   "outputs": [
    {
     "data": {
      "text/plain": [
       "np.int64(4372)"
      ]
     },
     "execution_count": 73,
     "metadata": {},
     "output_type": "execute_result"
    }
   ],
   "source": [
    "df1_summary[df1_summary['TotalItems'] < 0]['Invoice'].astype(str).str.startswith('C').sum()"
   ]
  },
  {
   "cell_type": "code",
   "execution_count": 74,
   "metadata": {},
   "outputs": [
    {
     "data": {
      "text/plain": [
       "array(['4', '5', 'C'], dtype=object)"
      ]
     },
     "execution_count": 74,
     "metadata": {},
     "output_type": "execute_result"
    }
   ],
   "source": [
    "df1_summary['Invoice'].astype(str).str[0].unique()"
   ]
  },
  {
   "cell_type": "code",
   "execution_count": 75,
   "metadata": {},
   "outputs": [
    {
     "data": {
      "text/plain": [
       "np.int64(0)"
      ]
     },
     "execution_count": 75,
     "metadata": {},
     "output_type": "execute_result"
    }
   ],
   "source": [
    "df1_summary[df1_summary['TotalItems'] > 0]['Invoice'].astype(str).str.startswith('C').sum()"
   ]
  },
  {
   "cell_type": "code",
   "execution_count": null,
   "metadata": {},
   "outputs": [
    {
     "data": {
      "text/plain": [
       "np.int64(19215)"
      ]
     },
     "execution_count": 77,
     "metadata": {},
     "output_type": "execute_result"
    }
   ],
   "source": [
    "df1_summary[df1_summary['TotalItems'] > 0]['Invoice'].str[0].str.isdigit().sum()"
   ]
  },
  {
   "cell_type": "code",
   "execution_count": 107,
   "metadata": {},
   "outputs": [
    {
     "data": {
      "text/plain": [
       "np.int64(0)"
      ]
     },
     "execution_count": 107,
     "metadata": {},
     "output_type": "execute_result"
    }
   ],
   "source": [
    "df1_summary[df1_summary['TotalItems'] < 0]['Invoice'].str[0].str.isdigit().sum()"
   ]
  },
  {
   "cell_type": "markdown",
   "metadata": {},
   "source": [
    "The invoice record consist of negative order value and have C prefix in Invoice ID.\n",
    "\n",
    "Such invoices may indicate one or more of the following:\n",
    "1. loss incur by the business in handling and processing the order, part of CAC\n",
    "2. these are return orders for some old original orders\n",
    "3. these are product purchase by the business (online retailer)"
   ]
  },
  {
   "cell_type": "code",
   "execution_count": 104,
   "metadata": {},
   "outputs": [
    {
     "data": {
      "text/plain": [
       "19215    489449\n",
       "19216    489459\n",
       "19217    489476\n",
       "19218    489503\n",
       "19219    489504\n",
       "          ...  \n",
       "23582    538121\n",
       "23583    538122\n",
       "23584    538123\n",
       "23585    538124\n",
       "23586    538164\n",
       "Name: Invoice, Length: 4372, dtype: object"
      ]
     },
     "execution_count": 104,
     "metadata": {},
     "output_type": "execute_result"
    }
   ],
   "source": [
    "df1_summary[df1_summary['TotalItems'] < 0]['Invoice'].str[1:]\n"
   ]
  },
  {
   "cell_type": "code",
   "execution_count": 97,
   "metadata": {},
   "outputs": [
    {
     "data": {
      "text/plain": [
       "np.int64(0)"
      ]
     },
     "execution_count": 103,
     "metadata": {},
     "output_type": "execute_result"
    }
   ],
   "source": [
    "df1_summary['Invoice'].isin([df1_summary[df1_summary['TotalItems'] < 0]['Invoice'].astype(str).str[1:]]).sum()"
   ]
  },
  {
   "cell_type": "code",
   "execution_count": 127,
   "metadata": {},
   "outputs": [
    {
     "data": {
      "text/plain": [
       "18536    536379\n",
       "18537    536383\n",
       "18538    536391\n",
       "18539    536506\n",
       "18540    536543\n",
       "          ...  \n",
       "22185    581484\n",
       "22186    581490\n",
       "22187    581499\n",
       "22188    581568\n",
       "22189    581569\n",
       "Name: Invoice, Length: 3654, dtype: object"
      ]
     },
     "execution_count": 127,
     "metadata": {},
     "output_type": "execute_result"
    }
   ],
   "source": [
    "df2_summary[df2_summary['TotalItems'] < 0]['Invoice'].str[1:]"
   ]
  },
  {
   "cell_type": "code",
   "execution_count": null,
   "metadata": {},
   "outputs": [
    {
     "data": {
      "text/plain": [
       "np.int64(0)"
      ]
     },
     "execution_count": 124,
     "metadata": {},
     "output_type": "execute_result"
    }
   ],
   "source": [
    "df1_summary['Invoice'].isin([df2_summary[df2_summary['TotalItems'] < 0]['Invoice'].str[1:]]).sum()"
   ]
  },
  {
   "cell_type": "code",
   "execution_count": 130,
   "metadata": {},
   "outputs": [
    {
     "data": {
      "text/plain": [
       "np.int64(901)"
      ]
     },
     "execution_count": 130,
     "metadata": {},
     "output_type": "execute_result"
    }
   ],
   "source": [
    "df2_summary['Invoice'].isin(df1_summary['Invoice']).sum()"
   ]
  },
  {
   "cell_type": "markdown",
   "metadata": {},
   "source": [
    "df1 and df2 has some common invoice number."
   ]
  },
  {
   "cell_type": "code",
   "execution_count": 133,
   "metadata": {},
   "outputs": [
    {
     "data": {
      "text/plain": [
       "0        False\n",
       "1        False\n",
       "2        False\n",
       "3        False\n",
       "4        False\n",
       "         ...  \n",
       "23582     True\n",
       "23583     True\n",
       "23584     True\n",
       "23585     True\n",
       "23586     True\n",
       "Name: Invoice, Length: 23587, dtype: bool"
      ]
     },
     "execution_count": 133,
     "metadata": {},
     "output_type": "execute_result"
    }
   ],
   "source": [
    "df1_summary['Invoice'].isin(df2_summary['Invoice'])"
   ]
  },
  {
   "cell_type": "markdown",
   "metadata": {},
   "source": [
    "### 1st attempt\n",
    "- replace multiple invoice date with oldest one."
   ]
  },
  {
   "cell_type": "code",
   "execution_count": 152,
   "metadata": {},
   "outputs": [
    {
     "data": {
      "text/plain": [
       "901"
      ]
     },
     "execution_count": 152,
     "metadata": {},
     "output_type": "execute_result"
    }
   ],
   "source": [
    "common_invoices = set(df1_summary['Invoice']) & set(df2_summary['Invoice'])\n",
    "df1_common = df1_summary[df1_summary['Invoice'].isin(common_invoices)]\n",
    "df2_common = df2_summary[df2_summary['Invoice'].isin(common_invoices)]\n",
    "\n",
    "len(common_invoices)"
   ]
  },
  {
   "cell_type": "code",
   "execution_count": 168,
   "metadata": {},
   "outputs": [
    {
     "data": {
      "text/html": [
       "<div>\n",
       "<style scoped>\n",
       "    .dataframe tbody tr th:only-of-type {\n",
       "        vertical-align: middle;\n",
       "    }\n",
       "\n",
       "    .dataframe tbody tr th {\n",
       "        vertical-align: top;\n",
       "    }\n",
       "\n",
       "    .dataframe thead th {\n",
       "        text-align: right;\n",
       "    }\n",
       "</style>\n",
       "<table border=\"1\" class=\"dataframe\">\n",
       "  <thead>\n",
       "    <tr style=\"text-align: right;\">\n",
       "      <th></th>\n",
       "      <th>Invoice</th>\n",
       "      <th>InvoiceDate</th>\n",
       "      <th>Customer ID</th>\n",
       "      <th>Country</th>\n",
       "      <th>Amount</th>\n",
       "      <th>Quantity</th>\n",
       "      <th>Price</th>\n",
       "      <th>StockCode</th>\n",
       "      <th>Description</th>\n",
       "      <th>TotalItems</th>\n",
       "      <th>NumUniqueProd</th>\n",
       "      <th>AvgPrice</th>\n",
       "    </tr>\n",
       "  </thead>\n",
       "  <tbody>\n",
       "    <tr>\n",
       "      <th>18439</th>\n",
       "      <td>536365</td>\n",
       "      <td>2010-12-01 08:26:00</td>\n",
       "      <td>17850.0</td>\n",
       "      <td>United Kingdom</td>\n",
       "      <td>139.12</td>\n",
       "      <td>[6, 6, 8, 6, 6, 2, 6]</td>\n",
       "      <td>[2.55, 3.39, 2.75, 3.39, 3.39, 7.65, 4.25]</td>\n",
       "      <td>[85123A, 71053, 84406B, 84029G, 84029E, 22752,...</td>\n",
       "      <td>[WHITE HANGING HEART T-LIGHT HOLDER, WHITE MET...</td>\n",
       "      <td>40</td>\n",
       "      <td>7</td>\n",
       "      <td>3.91</td>\n",
       "    </tr>\n",
       "    <tr>\n",
       "      <th>18440</th>\n",
       "      <td>536366</td>\n",
       "      <td>2010-12-01 08:28:00</td>\n",
       "      <td>17850.0</td>\n",
       "      <td>United Kingdom</td>\n",
       "      <td>22.20</td>\n",
       "      <td>[6, 6]</td>\n",
       "      <td>[1.85, 1.85]</td>\n",
       "      <td>[22633, 22632]</td>\n",
       "      <td>[HAND WARMER UNION JACK, HAND WARMER RED POLKA...</td>\n",
       "      <td>12</td>\n",
       "      <td>2</td>\n",
       "      <td>1.85</td>\n",
       "    </tr>\n",
       "    <tr>\n",
       "      <th>18441</th>\n",
       "      <td>536367</td>\n",
       "      <td>2010-12-01 08:34:00</td>\n",
       "      <td>13047.0</td>\n",
       "      <td>United Kingdom</td>\n",
       "      <td>278.73</td>\n",
       "      <td>[32, 6, 6, 8, 6, 6, 3, 2, 3, 3, 4, 4]</td>\n",
       "      <td>[1.69, 2.1, 2.1, 3.75, 1.65, 4.25, 4.95, 9.95,...</td>\n",
       "      <td>[84879, 22745, 22748, 22749, 22310, 84969, 226...</td>\n",
       "      <td>[ASSORTED COLOUR BIRD ORNAMENT, POPPY'S PLAYHO...</td>\n",
       "      <td>83</td>\n",
       "      <td>12</td>\n",
       "      <td>4.85</td>\n",
       "    </tr>\n",
       "    <tr>\n",
       "      <th>18442</th>\n",
       "      <td>536368</td>\n",
       "      <td>2010-12-01 08:34:00</td>\n",
       "      <td>13047.0</td>\n",
       "      <td>United Kingdom</td>\n",
       "      <td>70.05</td>\n",
       "      <td>[6, 3, 3, 3]</td>\n",
       "      <td>[4.25, 4.95, 4.95, 4.95]</td>\n",
       "      <td>[22960, 22913, 22912, 22914]</td>\n",
       "      <td>[JAM MAKING SET WITH JARS, RED COAT RACK PARIS...</td>\n",
       "      <td>15</td>\n",
       "      <td>4</td>\n",
       "      <td>4.78</td>\n",
       "    </tr>\n",
       "    <tr>\n",
       "      <th>18443</th>\n",
       "      <td>536369</td>\n",
       "      <td>2010-12-01 08:35:00</td>\n",
       "      <td>13047.0</td>\n",
       "      <td>United Kingdom</td>\n",
       "      <td>17.85</td>\n",
       "      <td>[3]</td>\n",
       "      <td>[5.95]</td>\n",
       "      <td>[21756]</td>\n",
       "      <td>[BATH BUILDING BLOCK WORD]</td>\n",
       "      <td>3</td>\n",
       "      <td>1</td>\n",
       "      <td>5.95</td>\n",
       "    </tr>\n",
       "  </tbody>\n",
       "</table>\n",
       "</div>"
      ],
      "text/plain": [
       "      Invoice         InvoiceDate Customer ID         Country  Amount  \\\n",
       "18439  536365 2010-12-01 08:26:00     17850.0  United Kingdom  139.12   \n",
       "18440  536366 2010-12-01 08:28:00     17850.0  United Kingdom   22.20   \n",
       "18441  536367 2010-12-01 08:34:00     13047.0  United Kingdom  278.73   \n",
       "18442  536368 2010-12-01 08:34:00     13047.0  United Kingdom   70.05   \n",
       "18443  536369 2010-12-01 08:35:00     13047.0  United Kingdom   17.85   \n",
       "\n",
       "                                    Quantity  \\\n",
       "18439                  [6, 6, 8, 6, 6, 2, 6]   \n",
       "18440                                 [6, 6]   \n",
       "18441  [32, 6, 6, 8, 6, 6, 3, 2, 3, 3, 4, 4]   \n",
       "18442                           [6, 3, 3, 3]   \n",
       "18443                                    [3]   \n",
       "\n",
       "                                                   Price  \\\n",
       "18439         [2.55, 3.39, 2.75, 3.39, 3.39, 7.65, 4.25]   \n",
       "18440                                       [1.85, 1.85]   \n",
       "18441  [1.69, 2.1, 2.1, 3.75, 1.65, 4.25, 4.95, 9.95,...   \n",
       "18442                           [4.25, 4.95, 4.95, 4.95]   \n",
       "18443                                             [5.95]   \n",
       "\n",
       "                                               StockCode  \\\n",
       "18439  [85123A, 71053, 84406B, 84029G, 84029E, 22752,...   \n",
       "18440                                     [22633, 22632]   \n",
       "18441  [84879, 22745, 22748, 22749, 22310, 84969, 226...   \n",
       "18442                       [22960, 22913, 22912, 22914]   \n",
       "18443                                            [21756]   \n",
       "\n",
       "                                             Description  TotalItems  \\\n",
       "18439  [WHITE HANGING HEART T-LIGHT HOLDER, WHITE MET...          40   \n",
       "18440  [HAND WARMER UNION JACK, HAND WARMER RED POLKA...          12   \n",
       "18441  [ASSORTED COLOUR BIRD ORNAMENT, POPPY'S PLAYHO...          83   \n",
       "18442  [JAM MAKING SET WITH JARS, RED COAT RACK PARIS...          15   \n",
       "18443                         [BATH BUILDING BLOCK WORD]           3   \n",
       "\n",
       "       NumUniqueProd  AvgPrice  \n",
       "18439              7      3.91  \n",
       "18440              2      1.85  \n",
       "18441             12      4.85  \n",
       "18442              4      4.78  \n",
       "18443              1      5.95  "
      ]
     },
     "execution_count": 168,
     "metadata": {},
     "output_type": "execute_result"
    }
   ],
   "source": [
    "df1_common.head()"
   ]
  },
  {
   "cell_type": "code",
   "execution_count": 169,
   "metadata": {},
   "outputs": [
    {
     "data": {
      "text/html": [
       "<div>\n",
       "<style scoped>\n",
       "    .dataframe tbody tr th:only-of-type {\n",
       "        vertical-align: middle;\n",
       "    }\n",
       "\n",
       "    .dataframe tbody tr th {\n",
       "        vertical-align: top;\n",
       "    }\n",
       "\n",
       "    .dataframe thead th {\n",
       "        text-align: right;\n",
       "    }\n",
       "</style>\n",
       "<table border=\"1\" class=\"dataframe\">\n",
       "  <thead>\n",
       "    <tr style=\"text-align: right;\">\n",
       "      <th></th>\n",
       "      <th>Invoice</th>\n",
       "      <th>InvoiceDate</th>\n",
       "      <th>Customer ID</th>\n",
       "      <th>Country</th>\n",
       "      <th>Amount</th>\n",
       "      <th>Quantity</th>\n",
       "      <th>Price</th>\n",
       "      <th>StockCode</th>\n",
       "      <th>Description</th>\n",
       "      <th>TotalItems</th>\n",
       "      <th>NumUniqueProd</th>\n",
       "      <th>AvgPrice</th>\n",
       "    </tr>\n",
       "  </thead>\n",
       "  <tbody>\n",
       "    <tr>\n",
       "      <th>0</th>\n",
       "      <td>536365</td>\n",
       "      <td>2010-12-01 08:26:00</td>\n",
       "      <td>17850.0</td>\n",
       "      <td>United Kingdom</td>\n",
       "      <td>139.12</td>\n",
       "      <td>[6, 6, 8, 6, 6, 2, 6]</td>\n",
       "      <td>[2.55, 3.39, 2.75, 3.39, 3.39, 7.65, 4.25]</td>\n",
       "      <td>[85123A, 71053, 84406B, 84029G, 84029E, 22752,...</td>\n",
       "      <td>[WHITE HANGING HEART T-LIGHT HOLDER, WHITE MET...</td>\n",
       "      <td>40</td>\n",
       "      <td>7</td>\n",
       "      <td>3.91</td>\n",
       "    </tr>\n",
       "    <tr>\n",
       "      <th>1</th>\n",
       "      <td>536366</td>\n",
       "      <td>2010-12-01 08:28:00</td>\n",
       "      <td>17850.0</td>\n",
       "      <td>United Kingdom</td>\n",
       "      <td>22.20</td>\n",
       "      <td>[6, 6]</td>\n",
       "      <td>[1.85, 1.85]</td>\n",
       "      <td>[22633, 22632]</td>\n",
       "      <td>[HAND WARMER UNION JACK, HAND WARMER RED POLKA...</td>\n",
       "      <td>12</td>\n",
       "      <td>2</td>\n",
       "      <td>1.85</td>\n",
       "    </tr>\n",
       "    <tr>\n",
       "      <th>2</th>\n",
       "      <td>536367</td>\n",
       "      <td>2010-12-01 08:34:00</td>\n",
       "      <td>13047.0</td>\n",
       "      <td>United Kingdom</td>\n",
       "      <td>278.73</td>\n",
       "      <td>[32, 6, 6, 8, 6, 6, 3, 2, 3, 3, 4, 4]</td>\n",
       "      <td>[1.69, 2.1, 2.1, 3.75, 1.65, 4.25, 4.95, 9.95,...</td>\n",
       "      <td>[84879, 22745, 22748, 22749, 22310, 84969, 226...</td>\n",
       "      <td>[ASSORTED COLOUR BIRD ORNAMENT, POPPY'S PLAYHO...</td>\n",
       "      <td>83</td>\n",
       "      <td>12</td>\n",
       "      <td>4.85</td>\n",
       "    </tr>\n",
       "    <tr>\n",
       "      <th>3</th>\n",
       "      <td>536368</td>\n",
       "      <td>2010-12-01 08:34:00</td>\n",
       "      <td>13047.0</td>\n",
       "      <td>United Kingdom</td>\n",
       "      <td>70.05</td>\n",
       "      <td>[6, 3, 3, 3]</td>\n",
       "      <td>[4.25, 4.95, 4.95, 4.95]</td>\n",
       "      <td>[22960, 22913, 22912, 22914]</td>\n",
       "      <td>[JAM MAKING SET WITH JARS, RED COAT RACK PARIS...</td>\n",
       "      <td>15</td>\n",
       "      <td>4</td>\n",
       "      <td>4.78</td>\n",
       "    </tr>\n",
       "    <tr>\n",
       "      <th>4</th>\n",
       "      <td>536369</td>\n",
       "      <td>2010-12-01 08:35:00</td>\n",
       "      <td>13047.0</td>\n",
       "      <td>United Kingdom</td>\n",
       "      <td>17.85</td>\n",
       "      <td>[3]</td>\n",
       "      <td>[5.95]</td>\n",
       "      <td>[21756]</td>\n",
       "      <td>[BATH BUILDING BLOCK WORD]</td>\n",
       "      <td>3</td>\n",
       "      <td>1</td>\n",
       "      <td>5.95</td>\n",
       "    </tr>\n",
       "  </tbody>\n",
       "</table>\n",
       "</div>"
      ],
      "text/plain": [
       "  Invoice         InvoiceDate Customer ID         Country  Amount  \\\n",
       "0  536365 2010-12-01 08:26:00     17850.0  United Kingdom  139.12   \n",
       "1  536366 2010-12-01 08:28:00     17850.0  United Kingdom   22.20   \n",
       "2  536367 2010-12-01 08:34:00     13047.0  United Kingdom  278.73   \n",
       "3  536368 2010-12-01 08:34:00     13047.0  United Kingdom   70.05   \n",
       "4  536369 2010-12-01 08:35:00     13047.0  United Kingdom   17.85   \n",
       "\n",
       "                                Quantity  \\\n",
       "0                  [6, 6, 8, 6, 6, 2, 6]   \n",
       "1                                 [6, 6]   \n",
       "2  [32, 6, 6, 8, 6, 6, 3, 2, 3, 3, 4, 4]   \n",
       "3                           [6, 3, 3, 3]   \n",
       "4                                    [3]   \n",
       "\n",
       "                                               Price  \\\n",
       "0         [2.55, 3.39, 2.75, 3.39, 3.39, 7.65, 4.25]   \n",
       "1                                       [1.85, 1.85]   \n",
       "2  [1.69, 2.1, 2.1, 3.75, 1.65, 4.25, 4.95, 9.95,...   \n",
       "3                           [4.25, 4.95, 4.95, 4.95]   \n",
       "4                                             [5.95]   \n",
       "\n",
       "                                           StockCode  \\\n",
       "0  [85123A, 71053, 84406B, 84029G, 84029E, 22752,...   \n",
       "1                                     [22633, 22632]   \n",
       "2  [84879, 22745, 22748, 22749, 22310, 84969, 226...   \n",
       "3                       [22960, 22913, 22912, 22914]   \n",
       "4                                            [21756]   \n",
       "\n",
       "                                         Description  TotalItems  \\\n",
       "0  [WHITE HANGING HEART T-LIGHT HOLDER, WHITE MET...          40   \n",
       "1  [HAND WARMER UNION JACK, HAND WARMER RED POLKA...          12   \n",
       "2  [ASSORTED COLOUR BIRD ORNAMENT, POPPY'S PLAYHO...          83   \n",
       "3  [JAM MAKING SET WITH JARS, RED COAT RACK PARIS...          15   \n",
       "4                         [BATH BUILDING BLOCK WORD]           3   \n",
       "\n",
       "   NumUniqueProd  AvgPrice  \n",
       "0              7      3.91  \n",
       "1              2      1.85  \n",
       "2             12      4.85  \n",
       "3              4      4.78  \n",
       "4              1      5.95  "
      ]
     },
     "execution_count": 169,
     "metadata": {},
     "output_type": "execute_result"
    }
   ],
   "source": [
    "df2_common.head()"
   ]
  },
  {
   "cell_type": "code",
   "execution_count": 177,
   "metadata": {},
   "outputs": [
    {
     "name": "stdout",
     "output_type": "stream",
     "text": [
      "df1 invoice date, min: 2009-12-01 07:45:00, max: 2010-12-09 20:01:00\n",
      "df2 invoice date, min: 2010-12-01 08:26:00, max: 2011-12-09 12:50:00\n",
      "common invoice date, min: 2010-12-01 08:26:00, max: 2010-12-09 20:01:00\n"
     ]
    }
   ],
   "source": [
    "print(f\"df1 invoice date, min: {df1_summary['InvoiceDate'].min()}, max: {df1_summary['InvoiceDate'].max()}\")\n",
    "print(f\"df2 invoice date, min: {df2_summary['InvoiceDate'].min()}, max: {df2_summary['InvoiceDate'].max()}\")\n",
    "print(f\"common invoice date, min: {df1_common['InvoiceDate'].min()}, max: {df1_common['InvoiceDate'].max()}\")"
   ]
  },
  {
   "cell_type": "code",
   "execution_count": 183,
   "metadata": {},
   "outputs": [
    {
     "name": "stdout",
     "output_type": "stream",
     "text": [
      "900\n",
      "900\n"
     ]
    }
   ],
   "source": [
    "start = pd.to_datetime('2010-12-01 08:26:00')\n",
    "end = pd.to_datetime('2010-12-09 20:01:00')\n",
    "print(df1_summary[(df1_summary['InvoiceDate'] >= start) & (df1_summary['InvoiceDate'] <= end)].shape[0])\n",
    "print(df2_summary[(df2_summary['InvoiceDate'] >= start) & (df2_summary['InvoiceDate'] <= end)].shape[0])"
   ]
  },
  {
   "cell_type": "code",
   "execution_count": 186,
   "metadata": {},
   "outputs": [
    {
     "data": {
      "text/plain": [
       "Timestamp('2010-12-10 09:33:00')"
      ]
     },
     "execution_count": 186,
     "metadata": {},
     "output_type": "execute_result"
    }
   ],
   "source": [
    "df2_summary[df2_summary['InvoiceDate'] > end]['InvoiceDate'].min()"
   ]
  },
  {
   "cell_type": "markdown",
   "metadata": {},
   "source": [
    "df1 and df2 have 900 invoice records with overlapping dates, and but 901 in overlapping invoice."
   ]
  },
  {
   "cell_type": "code",
   "execution_count": 194,
   "metadata": {},
   "outputs": [
    {
     "data": {
      "text/html": [
       "<div>\n",
       "<style scoped>\n",
       "    .dataframe tbody tr th:only-of-type {\n",
       "        vertical-align: middle;\n",
       "    }\n",
       "\n",
       "    .dataframe tbody tr th {\n",
       "        vertical-align: top;\n",
       "    }\n",
       "\n",
       "    .dataframe thead th {\n",
       "        text-align: right;\n",
       "    }\n",
       "</style>\n",
       "<table border=\"1\" class=\"dataframe\">\n",
       "  <thead>\n",
       "    <tr style=\"text-align: right;\">\n",
       "      <th></th>\n",
       "      <th>Invoice</th>\n",
       "      <th>InvoiceDate</th>\n",
       "      <th>Customer ID</th>\n",
       "      <th>Country</th>\n",
       "      <th>Amount</th>\n",
       "      <th>Quantity</th>\n",
       "      <th>Price</th>\n",
       "      <th>StockCode</th>\n",
       "      <th>Description</th>\n",
       "      <th>TotalItems</th>\n",
       "      <th>NumUniqueProd</th>\n",
       "      <th>AvgPrice</th>\n",
       "    </tr>\n",
       "  </thead>\n",
       "  <tbody>\n",
       "    <tr>\n",
       "      <th>18555</th>\n",
       "      <td>536591</td>\n",
       "      <td>NaT</td>\n",
       "      <td>14606.0</td>\n",
       "      <td>United Kingdom</td>\n",
       "      <td>198.32</td>\n",
       "      <td>[1, 1, 1, 1, 1, 2, 1, 1, 1, 1, 1, 1, 1, 1, 1, ...</td>\n",
       "      <td>[2.1, 0.42, 1.25, 1.25, 1.25, 1.25, 1.95, 2.1,...</td>\n",
       "      <td>[21427, 22135, 90214M, 90214V, 90214S, 90214J,...</td>\n",
       "      <td>[SKULLS STORAGE BOX SMALL, LADLE LOVE HEART PI...</td>\n",
       "      <td>93</td>\n",
       "      <td>40</td>\n",
       "      <td>2.95</td>\n",
       "    </tr>\n",
       "  </tbody>\n",
       "</table>\n",
       "</div>"
      ],
      "text/plain": [
       "      Invoice InvoiceDate Customer ID         Country  Amount  \\\n",
       "18555  536591         NaT     14606.0  United Kingdom  198.32   \n",
       "\n",
       "                                                Quantity  \\\n",
       "18555  [1, 1, 1, 1, 1, 2, 1, 1, 1, 1, 1, 1, 1, 1, 1, ...   \n",
       "\n",
       "                                                   Price  \\\n",
       "18555  [2.1, 0.42, 1.25, 1.25, 1.25, 1.25, 1.95, 2.1,...   \n",
       "\n",
       "                                               StockCode  \\\n",
       "18555  [21427, 22135, 90214M, 90214V, 90214S, 90214J,...   \n",
       "\n",
       "                                             Description  TotalItems  \\\n",
       "18555  [SKULLS STORAGE BOX SMALL, LADLE LOVE HEART PI...          93   \n",
       "\n",
       "       NumUniqueProd  AvgPrice  \n",
       "18555             40      2.95  "
      ]
     },
     "execution_count": 194,
     "metadata": {},
     "output_type": "execute_result"
    }
   ],
   "source": [
    "df1_dateoverlap = df1_summary[(df1_summary['InvoiceDate'] >= start) & (df1_summary['InvoiceDate'] <= end)]\n",
    "df2_dateoverlap = df2_summary[(df2_summary['InvoiceDate'] >= start) & (df2_summary['InvoiceDate'] <= end)]\n",
    "\n",
    "df1_common[~df1_common['Invoice'].isin(df1_dateoverlap['Invoice'])]"
   ]
  },
  {
   "cell_type": "code",
   "execution_count": 215,
   "metadata": {},
   "outputs": [
    {
     "data": {
      "text/html": [
       "<div>\n",
       "<style scoped>\n",
       "    .dataframe tbody tr th:only-of-type {\n",
       "        vertical-align: middle;\n",
       "    }\n",
       "\n",
       "    .dataframe tbody tr th {\n",
       "        vertical-align: top;\n",
       "    }\n",
       "\n",
       "    .dataframe thead th {\n",
       "        text-align: right;\n",
       "    }\n",
       "</style>\n",
       "<table border=\"1\" class=\"dataframe\">\n",
       "  <thead>\n",
       "    <tr style=\"text-align: right;\">\n",
       "      <th></th>\n",
       "      <th>Invoice</th>\n",
       "      <th>InvoiceDate</th>\n",
       "      <th>Customer ID</th>\n",
       "      <th>Country</th>\n",
       "      <th>Amount</th>\n",
       "      <th>Quantity</th>\n",
       "      <th>Price</th>\n",
       "      <th>StockCode</th>\n",
       "      <th>Description</th>\n",
       "      <th>TotalItems</th>\n",
       "      <th>NumUniqueProd</th>\n",
       "      <th>AvgPrice</th>\n",
       "    </tr>\n",
       "  </thead>\n",
       "  <tbody>\n",
       "    <tr>\n",
       "      <th>1429</th>\n",
       "      <td>492807</td>\n",
       "      <td>NaT</td>\n",
       "      <td>17211.0</td>\n",
       "      <td>United Kingdom</td>\n",
       "      <td>342.82</td>\n",
       "      <td>[1, 2, 4, 3, 3, 12, 1, 6, 4, 6, 12, 2, 2, 2, 2...</td>\n",
       "      <td>[1.25, 1.25, 1.25, 1.25, 1.25, 1.65, 3.75, 4.9...</td>\n",
       "      <td>[85131A, 85129A, 85129D, 85129B, 85129A, 21645...</td>\n",
       "      <td>[BEADED PEARL HEART WHITE ON STICK, WHITE PEAR...</td>\n",
       "      <td>177</td>\n",
       "      <td>30</td>\n",
       "      <td>2.68</td>\n",
       "    </tr>\n",
       "    <tr>\n",
       "      <th>3778</th>\n",
       "      <td>499967</td>\n",
       "      <td>NaT</td>\n",
       "      <td>16636.0</td>\n",
       "      <td>United Kingdom</td>\n",
       "      <td>1311.45</td>\n",
       "      <td>[10, 10, 20, 20, 20, 15, 20, 20, 10, 20, 20, 4...</td>\n",
       "      <td>[6.35, 6.35, 0.85, 0.85, 1.65, 2.95, 1.95, 1.9...</td>\n",
       "      <td>[21524, 48185, 20723, 20724, 20725, 21937, 850...</td>\n",
       "      <td>[DOOR MAT SPOTTY HOME SWEET HOME, DOOR MAT FAI...</td>\n",
       "      <td>795</td>\n",
       "      <td>31</td>\n",
       "      <td>2.47</td>\n",
       "    </tr>\n",
       "    <tr>\n",
       "      <th>3970</th>\n",
       "      <td>500353</td>\n",
       "      <td>NaT</td>\n",
       "      <td>12668.0</td>\n",
       "      <td>Germany</td>\n",
       "      <td>1966.84</td>\n",
       "      <td>[12, 10, 4, 6, 2, 3, 24, 24, 24, 18, 6, 6, 6, ...</td>\n",
       "      <td>[1.65, 1.25, 3.75, 2.1, 9.95, 9.95, 0.55, 0.55...</td>\n",
       "      <td>[22136, 21154, 22073, 20754, 79072, 21217, 212...</td>\n",
       "      <td>[LOVE HEART SOCK HANGER, RED SPOTTY OVEN GLOVE...</td>\n",
       "      <td>1114</td>\n",
       "      <td>110</td>\n",
       "      <td>2.79</td>\n",
       "    </tr>\n",
       "    <tr>\n",
       "      <th>4418</th>\n",
       "      <td>501618</td>\n",
       "      <td>NaT</td>\n",
       "      <td>15819.0</td>\n",
       "      <td>United Kingdom</td>\n",
       "      <td>296.42</td>\n",
       "      <td>[10, 10, 10, 36, 6, 16, 12, 12, 10, 3, 3, 8, 1...</td>\n",
       "      <td>[1.95, 0.85, 1.65, 0.85, 2.55, 1.25, 0.85, 0.8...</td>\n",
       "      <td>[20712, 20719, 20726, 22610, 22353, 20977, 215...</td>\n",
       "      <td>[JUMBO BAG WOODLAND ANIMALS, WOODLAND CHARLOTT...</td>\n",
       "      <td>198</td>\n",
       "      <td>19</td>\n",
       "      <td>1.97</td>\n",
       "    </tr>\n",
       "    <tr>\n",
       "      <th>4554</th>\n",
       "      <td>501871</td>\n",
       "      <td>NaT</td>\n",
       "      <td>14970.0</td>\n",
       "      <td>United Kingdom</td>\n",
       "      <td>658.00</td>\n",
       "      <td>[12, 4, 10, 10, 10, 10, 2, 6, 6, 6, 6, 6, 24, ...</td>\n",
       "      <td>[1.65, 7.95, 6.35, 6.35, 6.35, 6.35, 2.1, 0.65...</td>\n",
       "      <td>[85206A, 21777, 21523, 22366, 48187, 48138, 84...</td>\n",
       "      <td>[CREAM FELT EASTER EGG BASKET, RECIPE BOX WITH...</td>\n",
       "      <td>146</td>\n",
       "      <td>15</td>\n",
       "      <td>3.88</td>\n",
       "    </tr>\n",
       "  </tbody>\n",
       "</table>\n",
       "</div>"
      ],
      "text/plain": [
       "     Invoice InvoiceDate Customer ID         Country   Amount  \\\n",
       "1429  492807         NaT     17211.0  United Kingdom   342.82   \n",
       "3778  499967         NaT     16636.0  United Kingdom  1311.45   \n",
       "3970  500353         NaT     12668.0         Germany  1966.84   \n",
       "4418  501618         NaT     15819.0  United Kingdom   296.42   \n",
       "4554  501871         NaT     14970.0  United Kingdom   658.00   \n",
       "\n",
       "                                               Quantity  \\\n",
       "1429  [1, 2, 4, 3, 3, 12, 1, 6, 4, 6, 12, 2, 2, 2, 2...   \n",
       "3778  [10, 10, 20, 20, 20, 15, 20, 20, 10, 20, 20, 4...   \n",
       "3970  [12, 10, 4, 6, 2, 3, 24, 24, 24, 18, 6, 6, 6, ...   \n",
       "4418  [10, 10, 10, 36, 6, 16, 12, 12, 10, 3, 3, 8, 1...   \n",
       "4554  [12, 4, 10, 10, 10, 10, 2, 6, 6, 6, 6, 6, 24, ...   \n",
       "\n",
       "                                                  Price  \\\n",
       "1429  [1.25, 1.25, 1.25, 1.25, 1.25, 1.65, 3.75, 4.9...   \n",
       "3778  [6.35, 6.35, 0.85, 0.85, 1.65, 2.95, 1.95, 1.9...   \n",
       "3970  [1.65, 1.25, 3.75, 2.1, 9.95, 9.95, 0.55, 0.55...   \n",
       "4418  [1.95, 0.85, 1.65, 0.85, 2.55, 1.25, 0.85, 0.8...   \n",
       "4554  [1.65, 7.95, 6.35, 6.35, 6.35, 6.35, 2.1, 0.65...   \n",
       "\n",
       "                                              StockCode  \\\n",
       "1429  [85131A, 85129A, 85129D, 85129B, 85129A, 21645...   \n",
       "3778  [21524, 48185, 20723, 20724, 20725, 21937, 850...   \n",
       "3970  [22136, 21154, 22073, 20754, 79072, 21217, 212...   \n",
       "4418  [20712, 20719, 20726, 22610, 22353, 20977, 215...   \n",
       "4554  [85206A, 21777, 21523, 22366, 48187, 48138, 84...   \n",
       "\n",
       "                                            Description  TotalItems  \\\n",
       "1429  [BEADED PEARL HEART WHITE ON STICK, WHITE PEAR...         177   \n",
       "3778  [DOOR MAT SPOTTY HOME SWEET HOME, DOOR MAT FAI...         795   \n",
       "3970  [LOVE HEART SOCK HANGER, RED SPOTTY OVEN GLOVE...        1114   \n",
       "4418  [JUMBO BAG WOODLAND ANIMALS, WOODLAND CHARLOTT...         198   \n",
       "4554  [CREAM FELT EASTER EGG BASKET, RECIPE BOX WITH...         146   \n",
       "\n",
       "      NumUniqueProd  AvgPrice  \n",
       "1429             30      2.68  \n",
       "3778             31      2.47  \n",
       "3970            110      2.79  \n",
       "4418             19      1.97  \n",
       "4554             15      3.88  "
      ]
     },
     "execution_count": 215,
     "metadata": {},
     "output_type": "execute_result"
    }
   ],
   "source": [
    "df1_summary[df1_summary['InvoiceDate'].isna()].head()"
   ]
  },
  {
   "cell_type": "code",
   "execution_count": null,
   "metadata": {},
   "outputs": [
    {
     "data": {
      "text/html": [
       "<div>\n",
       "<style scoped>\n",
       "    .dataframe tbody tr th:only-of-type {\n",
       "        vertical-align: middle;\n",
       "    }\n",
       "\n",
       "    .dataframe tbody tr th {\n",
       "        vertical-align: top;\n",
       "    }\n",
       "\n",
       "    .dataframe thead th {\n",
       "        text-align: right;\n",
       "    }\n",
       "</style>\n",
       "<table border=\"1\" class=\"dataframe\">\n",
       "  <thead>\n",
       "    <tr style=\"text-align: right;\">\n",
       "      <th></th>\n",
       "      <th>Invoice</th>\n",
       "      <th>StockCode</th>\n",
       "      <th>Description</th>\n",
       "      <th>Quantity</th>\n",
       "      <th>InvoiceDate</th>\n",
       "      <th>Price</th>\n",
       "      <th>Customer ID</th>\n",
       "      <th>Country</th>\n",
       "    </tr>\n",
       "  </thead>\n",
       "  <tbody>\n",
       "    <tr>\n",
       "      <th>41630</th>\n",
       "      <td>492807</td>\n",
       "      <td>85131A</td>\n",
       "      <td>BEADED PEARL HEART WHITE ON STICK</td>\n",
       "      <td>1</td>\n",
       "      <td>2009-12-20 12:28:00</td>\n",
       "      <td>1.25</td>\n",
       "      <td>17211.0</td>\n",
       "      <td>United Kingdom</td>\n",
       "    </tr>\n",
       "    <tr>\n",
       "      <th>41631</th>\n",
       "      <td>492807</td>\n",
       "      <td>85129A</td>\n",
       "      <td>WHITE PEARL BEADED HEART, SMALL</td>\n",
       "      <td>2</td>\n",
       "      <td>2009-12-20 12:28:00</td>\n",
       "      <td>1.25</td>\n",
       "      <td>17211.0</td>\n",
       "      <td>United Kingdom</td>\n",
       "    </tr>\n",
       "    <tr>\n",
       "      <th>41632</th>\n",
       "      <td>492807</td>\n",
       "      <td>85129D</td>\n",
       "      <td>BEADED CRYSTAL HEART PINK SMALL</td>\n",
       "      <td>4</td>\n",
       "      <td>2009-12-20 12:28:00</td>\n",
       "      <td>1.25</td>\n",
       "      <td>17211.0</td>\n",
       "      <td>United Kingdom</td>\n",
       "    </tr>\n",
       "    <tr>\n",
       "      <th>41633</th>\n",
       "      <td>492807</td>\n",
       "      <td>85129B</td>\n",
       "      <td>BEADED CRYSTAL HEART GREEN SMALL</td>\n",
       "      <td>3</td>\n",
       "      <td>2009-12-20 12:28:00</td>\n",
       "      <td>1.25</td>\n",
       "      <td>17211.0</td>\n",
       "      <td>United Kingdom</td>\n",
       "    </tr>\n",
       "    <tr>\n",
       "      <th>41634</th>\n",
       "      <td>492807</td>\n",
       "      <td>85129A</td>\n",
       "      <td>WHITE PEARL BEADED HEART, SMALL</td>\n",
       "      <td>3</td>\n",
       "      <td>2009-12-20 12:28:00</td>\n",
       "      <td>1.25</td>\n",
       "      <td>17211.0</td>\n",
       "      <td>United Kingdom</td>\n",
       "    </tr>\n",
       "    <tr>\n",
       "      <th>41635</th>\n",
       "      <td>492807</td>\n",
       "      <td>21645</td>\n",
       "      <td>ASSORTED TUTTI FRUTTI ROUND BOX</td>\n",
       "      <td>12</td>\n",
       "      <td>2009-12-20 12:28:00</td>\n",
       "      <td>1.65</td>\n",
       "      <td>17211.0</td>\n",
       "      <td>United Kingdom</td>\n",
       "    </tr>\n",
       "    <tr>\n",
       "      <th>41636</th>\n",
       "      <td>492807</td>\n",
       "      <td>84029G</td>\n",
       "      <td>KNITTED UNION FLAG HOT WATER BOTTLE</td>\n",
       "      <td>1</td>\n",
       "      <td>2009-12-20 12:28:00</td>\n",
       "      <td>3.75</td>\n",
       "      <td>17211.0</td>\n",
       "      <td>United Kingdom</td>\n",
       "    </tr>\n",
       "    <tr>\n",
       "      <th>41637</th>\n",
       "      <td>492807</td>\n",
       "      <td>21813</td>\n",
       "      <td>GARLAND WITH STARS AND BELLS</td>\n",
       "      <td>6</td>\n",
       "      <td>2009-12-20 12:28:00</td>\n",
       "      <td>4.95</td>\n",
       "      <td>17211.0</td>\n",
       "      <td>United Kingdom</td>\n",
       "    </tr>\n",
       "    <tr>\n",
       "      <th>41638</th>\n",
       "      <td>492807</td>\n",
       "      <td>22139</td>\n",
       "      <td>RETRO SPOT TEA SET CERAMIC 11 PC</td>\n",
       "      <td>4</td>\n",
       "      <td>2009-12-20 12:28:00</td>\n",
       "      <td>4.95</td>\n",
       "      <td>17211.0</td>\n",
       "      <td>United Kingdom</td>\n",
       "    </tr>\n",
       "    <tr>\n",
       "      <th>41639</th>\n",
       "      <td>492807</td>\n",
       "      <td>37340</td>\n",
       "      <td>MULTICOLOUR SPRING FLOWER MUG</td>\n",
       "      <td>6</td>\n",
       "      <td>2009-12-20 12:28:00</td>\n",
       "      <td>0.85</td>\n",
       "      <td>17211.0</td>\n",
       "      <td>United Kingdom</td>\n",
       "    </tr>\n",
       "    <tr>\n",
       "      <th>41640</th>\n",
       "      <td>492807</td>\n",
       "      <td>21644</td>\n",
       "      <td>ASSORTED TUTTI FRUTTI HEART BOX</td>\n",
       "      <td>12</td>\n",
       "      <td>2009-12-20 12:28:00</td>\n",
       "      <td>1.25</td>\n",
       "      <td>17211.0</td>\n",
       "      <td>United Kingdom</td>\n",
       "    </tr>\n",
       "    <tr>\n",
       "      <th>41641</th>\n",
       "      <td>492807</td>\n",
       "      <td>22111</td>\n",
       "      <td>SCOTTIE DOG HOT WATER BOTTLE</td>\n",
       "      <td>2</td>\n",
       "      <td>2009-12-20 12:28:00</td>\n",
       "      <td>4.95</td>\n",
       "      <td>17211.0</td>\n",
       "      <td>United Kingdom</td>\n",
       "    </tr>\n",
       "    <tr>\n",
       "      <th>41642</th>\n",
       "      <td>492807</td>\n",
       "      <td>84029E</td>\n",
       "      <td>RED WOOLLY HOTTIE WHITE HEART.</td>\n",
       "      <td>2</td>\n",
       "      <td>2009-12-20 12:28:00</td>\n",
       "      <td>3.75</td>\n",
       "      <td>17211.0</td>\n",
       "      <td>United Kingdom</td>\n",
       "    </tr>\n",
       "    <tr>\n",
       "      <th>41643</th>\n",
       "      <td>492807</td>\n",
       "      <td>21485</td>\n",
       "      <td>RED SPOT HEART HOT WATER BOTTLE</td>\n",
       "      <td>2</td>\n",
       "      <td>2009-12-20 12:28:00</td>\n",
       "      <td>4.95</td>\n",
       "      <td>17211.0</td>\n",
       "      <td>United Kingdom</td>\n",
       "    </tr>\n",
       "    <tr>\n",
       "      <th>41644</th>\n",
       "      <td>492807</td>\n",
       "      <td>22030</td>\n",
       "      <td>SWALLOWS GREETING CARD</td>\n",
       "      <td>24</td>\n",
       "      <td>2009-12-20 12:28:00</td>\n",
       "      <td>0.42</td>\n",
       "      <td>17211.0</td>\n",
       "      <td>United Kingdom</td>\n",
       "    </tr>\n",
       "    <tr>\n",
       "      <th>41645</th>\n",
       "      <td>492807</td>\n",
       "      <td>84975</td>\n",
       "      <td>HEART SHAPED MIRROR</td>\n",
       "      <td>6</td>\n",
       "      <td>2009-12-20 12:28:00</td>\n",
       "      <td>1.69</td>\n",
       "      <td>17211.0</td>\n",
       "      <td>United Kingdom</td>\n",
       "    </tr>\n",
       "    <tr>\n",
       "      <th>41646</th>\n",
       "      <td>492807</td>\n",
       "      <td>22294</td>\n",
       "      <td>HEART FILIGREE DOVE  SMALL</td>\n",
       "      <td>6</td>\n",
       "      <td>2009-12-20 12:28:00</td>\n",
       "      <td>1.25</td>\n",
       "      <td>17211.0</td>\n",
       "      <td>United Kingdom</td>\n",
       "    </tr>\n",
       "    <tr>\n",
       "      <th>41647</th>\n",
       "      <td>492807</td>\n",
       "      <td>22296</td>\n",
       "      <td>HEART IVORY TRELLIS LARGE</td>\n",
       "      <td>6</td>\n",
       "      <td>2009-12-20 12:28:00</td>\n",
       "      <td>1.65</td>\n",
       "      <td>17211.0</td>\n",
       "      <td>United Kingdom</td>\n",
       "    </tr>\n",
       "    <tr>\n",
       "      <th>41648</th>\n",
       "      <td>492807</td>\n",
       "      <td>21497</td>\n",
       "      <td>FANCY FONTS BIRTHDAY WRAP</td>\n",
       "      <td>25</td>\n",
       "      <td>2009-12-20 12:28:00</td>\n",
       "      <td>0.42</td>\n",
       "      <td>17211.0</td>\n",
       "      <td>United Kingdom</td>\n",
       "    </tr>\n",
       "    <tr>\n",
       "      <th>41649</th>\n",
       "      <td>492807</td>\n",
       "      <td>84508C</td>\n",
       "      <td>BLUE CIRCLES DESIGN TEDDY</td>\n",
       "      <td>2</td>\n",
       "      <td>2009-12-20 12:28:00</td>\n",
       "      <td>2.55</td>\n",
       "      <td>17211.0</td>\n",
       "      <td>United Kingdom</td>\n",
       "    </tr>\n",
       "    <tr>\n",
       "      <th>41650</th>\n",
       "      <td>492807</td>\n",
       "      <td>84507C</td>\n",
       "      <td>BLUE CIRCLES DESIGN MONKEY DOLL</td>\n",
       "      <td>3</td>\n",
       "      <td>2009-12-20 12:28:00</td>\n",
       "      <td>2.55</td>\n",
       "      <td>17211.0</td>\n",
       "      <td>United Kingdom</td>\n",
       "    </tr>\n",
       "    <tr>\n",
       "      <th>41651</th>\n",
       "      <td>492807</td>\n",
       "      <td>84507B</td>\n",
       "      <td>STRIPES DESIGN MONKEY DOLL</td>\n",
       "      <td>3</td>\n",
       "      <td>2009-12-20 12:28:00</td>\n",
       "      <td>2.55</td>\n",
       "      <td>17211.0</td>\n",
       "      <td>United Kingdom</td>\n",
       "    </tr>\n",
       "    <tr>\n",
       "      <th>41652</th>\n",
       "      <td>492807</td>\n",
       "      <td>84327A</td>\n",
       "      <td>PINK JUMPER LARRY THE LAMB</td>\n",
       "      <td>2</td>\n",
       "      <td>2009-12-20 12:28:00</td>\n",
       "      <td>2.10</td>\n",
       "      <td>17211.0</td>\n",
       "      <td>United Kingdom</td>\n",
       "    </tr>\n",
       "    <tr>\n",
       "      <th>41653</th>\n",
       "      <td>492807</td>\n",
       "      <td>84508B</td>\n",
       "      <td>STRIPES DESIGN TEDDY</td>\n",
       "      <td>2</td>\n",
       "      <td>2009-12-20 12:28:00</td>\n",
       "      <td>2.55</td>\n",
       "      <td>17211.0</td>\n",
       "      <td>United Kingdom</td>\n",
       "    </tr>\n",
       "    <tr>\n",
       "      <th>41654</th>\n",
       "      <td>492807</td>\n",
       "      <td>22112</td>\n",
       "      <td>CHOCOLATE HOT WATER BOTTLE</td>\n",
       "      <td>3</td>\n",
       "      <td>2009-12-20 12:28:00</td>\n",
       "      <td>4.95</td>\n",
       "      <td>17211.0</td>\n",
       "      <td>United Kingdom</td>\n",
       "    </tr>\n",
       "    <tr>\n",
       "      <th>41655</th>\n",
       "      <td>492807</td>\n",
       "      <td>84950</td>\n",
       "      <td>ASSORTED COLOUR T-LIGHT HOLDER</td>\n",
       "      <td>12</td>\n",
       "      <td>2009-12-20 12:29:00</td>\n",
       "      <td>0.85</td>\n",
       "      <td>17211.0</td>\n",
       "      <td>United Kingdom</td>\n",
       "    </tr>\n",
       "    <tr>\n",
       "      <th>41656</th>\n",
       "      <td>492807</td>\n",
       "      <td>21812</td>\n",
       "      <td>GARLAND WITH HEARTS AND BELLS</td>\n",
       "      <td>6</td>\n",
       "      <td>2009-12-20 12:29:00</td>\n",
       "      <td>4.95</td>\n",
       "      <td>17211.0</td>\n",
       "      <td>United Kingdom</td>\n",
       "    </tr>\n",
       "    <tr>\n",
       "      <th>41657</th>\n",
       "      <td>492807</td>\n",
       "      <td>21813</td>\n",
       "      <td>GARLAND WITH STARS AND BELLS</td>\n",
       "      <td>6</td>\n",
       "      <td>2009-12-20 12:29:00</td>\n",
       "      <td>4.95</td>\n",
       "      <td>17211.0</td>\n",
       "      <td>United Kingdom</td>\n",
       "    </tr>\n",
       "    <tr>\n",
       "      <th>41658</th>\n",
       "      <td>492807</td>\n",
       "      <td>85123A</td>\n",
       "      <td>WHITE HANGING HEART T-LIGHT HOLDER</td>\n",
       "      <td>8</td>\n",
       "      <td>2009-12-20 12:29:00</td>\n",
       "      <td>2.95</td>\n",
       "      <td>17211.0</td>\n",
       "      <td>United Kingdom</td>\n",
       "    </tr>\n",
       "    <tr>\n",
       "      <th>41659</th>\n",
       "      <td>492807</td>\n",
       "      <td>79323W</td>\n",
       "      <td>WHITE CHERRY LIGHTS</td>\n",
       "      <td>3</td>\n",
       "      <td>2009-12-20 12:29:00</td>\n",
       "      <td>6.75</td>\n",
       "      <td>17211.0</td>\n",
       "      <td>United Kingdom</td>\n",
       "    </tr>\n",
       "  </tbody>\n",
       "</table>\n",
       "</div>"
      ],
      "text/plain": [
       "      Invoice StockCode                          Description  Quantity  \\\n",
       "41630  492807    85131A    BEADED PEARL HEART WHITE ON STICK         1   \n",
       "41631  492807    85129A      WHITE PEARL BEADED HEART, SMALL         2   \n",
       "41632  492807    85129D      BEADED CRYSTAL HEART PINK SMALL         4   \n",
       "41633  492807    85129B     BEADED CRYSTAL HEART GREEN SMALL         3   \n",
       "41634  492807    85129A      WHITE PEARL BEADED HEART, SMALL         3   \n",
       "41635  492807     21645      ASSORTED TUTTI FRUTTI ROUND BOX        12   \n",
       "41636  492807    84029G  KNITTED UNION FLAG HOT WATER BOTTLE         1   \n",
       "41637  492807     21813         GARLAND WITH STARS AND BELLS         6   \n",
       "41638  492807     22139    RETRO SPOT TEA SET CERAMIC 11 PC          4   \n",
       "41639  492807     37340        MULTICOLOUR SPRING FLOWER MUG         6   \n",
       "41640  492807     21644      ASSORTED TUTTI FRUTTI HEART BOX        12   \n",
       "41641  492807     22111         SCOTTIE DOG HOT WATER BOTTLE         2   \n",
       "41642  492807    84029E       RED WOOLLY HOTTIE WHITE HEART.         2   \n",
       "41643  492807     21485      RED SPOT HEART HOT WATER BOTTLE         2   \n",
       "41644  492807     22030               SWALLOWS GREETING CARD        24   \n",
       "41645  492807     84975                  HEART SHAPED MIRROR         6   \n",
       "41646  492807     22294           HEART FILIGREE DOVE  SMALL         6   \n",
       "41647  492807     22296            HEART IVORY TRELLIS LARGE         6   \n",
       "41648  492807     21497            FANCY FONTS BIRTHDAY WRAP        25   \n",
       "41649  492807    84508C            BLUE CIRCLES DESIGN TEDDY         2   \n",
       "41650  492807    84507C      BLUE CIRCLES DESIGN MONKEY DOLL         3   \n",
       "41651  492807    84507B           STRIPES DESIGN MONKEY DOLL         3   \n",
       "41652  492807    84327A           PINK JUMPER LARRY THE LAMB         2   \n",
       "41653  492807    84508B                 STRIPES DESIGN TEDDY         2   \n",
       "41654  492807     22112           CHOCOLATE HOT WATER BOTTLE         3   \n",
       "41655  492807     84950       ASSORTED COLOUR T-LIGHT HOLDER        12   \n",
       "41656  492807     21812        GARLAND WITH HEARTS AND BELLS         6   \n",
       "41657  492807     21813         GARLAND WITH STARS AND BELLS         6   \n",
       "41658  492807    85123A   WHITE HANGING HEART T-LIGHT HOLDER         8   \n",
       "41659  492807    79323W                  WHITE CHERRY LIGHTS         3   \n",
       "\n",
       "              InvoiceDate  Price  Customer ID         Country  \n",
       "41630 2009-12-20 12:28:00   1.25      17211.0  United Kingdom  \n",
       "41631 2009-12-20 12:28:00   1.25      17211.0  United Kingdom  \n",
       "41632 2009-12-20 12:28:00   1.25      17211.0  United Kingdom  \n",
       "41633 2009-12-20 12:28:00   1.25      17211.0  United Kingdom  \n",
       "41634 2009-12-20 12:28:00   1.25      17211.0  United Kingdom  \n",
       "41635 2009-12-20 12:28:00   1.65      17211.0  United Kingdom  \n",
       "41636 2009-12-20 12:28:00   3.75      17211.0  United Kingdom  \n",
       "41637 2009-12-20 12:28:00   4.95      17211.0  United Kingdom  \n",
       "41638 2009-12-20 12:28:00   4.95      17211.0  United Kingdom  \n",
       "41639 2009-12-20 12:28:00   0.85      17211.0  United Kingdom  \n",
       "41640 2009-12-20 12:28:00   1.25      17211.0  United Kingdom  \n",
       "41641 2009-12-20 12:28:00   4.95      17211.0  United Kingdom  \n",
       "41642 2009-12-20 12:28:00   3.75      17211.0  United Kingdom  \n",
       "41643 2009-12-20 12:28:00   4.95      17211.0  United Kingdom  \n",
       "41644 2009-12-20 12:28:00   0.42      17211.0  United Kingdom  \n",
       "41645 2009-12-20 12:28:00   1.69      17211.0  United Kingdom  \n",
       "41646 2009-12-20 12:28:00   1.25      17211.0  United Kingdom  \n",
       "41647 2009-12-20 12:28:00   1.65      17211.0  United Kingdom  \n",
       "41648 2009-12-20 12:28:00   0.42      17211.0  United Kingdom  \n",
       "41649 2009-12-20 12:28:00   2.55      17211.0  United Kingdom  \n",
       "41650 2009-12-20 12:28:00   2.55      17211.0  United Kingdom  \n",
       "41651 2009-12-20 12:28:00   2.55      17211.0  United Kingdom  \n",
       "41652 2009-12-20 12:28:00   2.10      17211.0  United Kingdom  \n",
       "41653 2009-12-20 12:28:00   2.55      17211.0  United Kingdom  \n",
       "41654 2009-12-20 12:28:00   4.95      17211.0  United Kingdom  \n",
       "41655 2009-12-20 12:29:00   0.85      17211.0  United Kingdom  \n",
       "41656 2009-12-20 12:29:00   4.95      17211.0  United Kingdom  \n",
       "41657 2009-12-20 12:29:00   4.95      17211.0  United Kingdom  \n",
       "41658 2009-12-20 12:29:00   2.95      17211.0  United Kingdom  \n",
       "41659 2009-12-20 12:29:00   6.75      17211.0  United Kingdom  "
      ]
     },
     "execution_count": 205,
     "metadata": {},
     "output_type": "execute_result"
    }
   ],
   "source": [
    "df1.query('Invoice == 492807')"
   ]
  },
  {
   "cell_type": "markdown",
   "metadata": {},
   "source": [
    "#### jump to unique invoice record"
   ]
  },
  {
   "cell_type": "markdown",
   "metadata": {},
   "source": [
    "### 2nd attempt"
   ]
  },
  {
   "cell_type": "code",
   "execution_count": 221,
   "metadata": {},
   "outputs": [
    {
     "data": {
      "text/plain": [
       "901"
      ]
     },
     "execution_count": 221,
     "metadata": {},
     "output_type": "execute_result"
    }
   ],
   "source": [
    "common_invoices = set(df1_summary['Invoice']) & set(df2_summary['Invoice'])\n",
    "df1_common = df1_summary[df1_summary['Invoice'].isin(common_invoices)]\n",
    "df2_common = df2_summary[df2_summary['Invoice'].isin(common_invoices)]\n",
    "\n",
    "len(common_invoices)"
   ]
  },
  {
   "cell_type": "code",
   "execution_count": 222,
   "metadata": {},
   "outputs": [
    {
     "name": "stdout",
     "output_type": "stream",
     "text": [
      "901\n",
      "901\n"
     ]
    }
   ],
   "source": [
    "start = pd.to_datetime('2010-12-01 08:26:00')\n",
    "end = pd.to_datetime('2010-12-09 20:01:00')\n",
    "print(df1_summary[(df1_summary['InvoiceDate'] >= start) & (df1_summary['InvoiceDate'] <= end)].shape[0])\n",
    "print(df2_summary[(df2_summary['InvoiceDate'] >= start) & (df2_summary['InvoiceDate'] <= end)].shape[0])"
   ]
  },
  {
   "cell_type": "markdown",
   "metadata": {},
   "source": [
    "Now, all the 901 invoice dates are overlapping whose invoice IDs are common in both dataframes.\n",
    "We can drop the 901 invoices from df1 or df2."
   ]
  },
  {
   "cell_type": "code",
   "execution_count": 233,
   "metadata": {},
   "outputs": [
    {
     "name": "stdout",
     "output_type": "stream",
     "text": [
      "<class 'pandas.core.frame.DataFrame'>\n",
      "Index: 44876 entries, 0 to 22189\n",
      "Data columns (total 12 columns):\n",
      " #   Column         Non-Null Count  Dtype         \n",
      "---  ------         --------------  -----         \n",
      " 0   Invoice        44876 non-null  object        \n",
      " 1   InvoiceDate    44876 non-null  datetime64[ns]\n",
      " 2   Customer ID    44876 non-null  object        \n",
      " 3   Country        44876 non-null  object        \n",
      " 4   Amount         44876 non-null  float64       \n",
      " 5   Quantity       44876 non-null  object        \n",
      " 6   Price          44876 non-null  object        \n",
      " 7   StockCode      44876 non-null  object        \n",
      " 8   Description    44876 non-null  object        \n",
      " 9   TotalItems     44876 non-null  int64         \n",
      " 10  NumUniqueProd  44876 non-null  int64         \n",
      " 11  AvgPrice       44876 non-null  float64       \n",
      "dtypes: datetime64[ns](1), float64(2), int64(2), object(7)\n",
      "memory usage: 4.5+ MB\n"
     ]
    }
   ],
   "source": [
    "df_combine = pd.concat([df1_summary, df2_summary])\n",
    "df_combine = df_combine.drop_duplicates(subset='Invoice', keep='first')  # or 'last'\n",
    "df_combine.info()"
   ]
  },
  {
   "cell_type": "code",
   "execution_count": null,
   "metadata": {},
   "outputs": [],
   "source": []
  }
 ],
 "metadata": {
  "kernelspec": {
   "display_name": "Python 3",
   "language": "python",
   "name": "python3"
  },
  "language_info": {
   "codemirror_mode": {
    "name": "ipython",
    "version": 3
   },
   "file_extension": ".py",
   "mimetype": "text/x-python",
   "name": "python",
   "nbconvert_exporter": "python",
   "pygments_lexer": "ipython3",
   "version": "3.12.2"
  }
 },
 "nbformat": 4,
 "nbformat_minor": 2
}
